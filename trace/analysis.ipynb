{
 "cells": [
  {
   "cell_type": "code",
   "execution_count": 1,
   "metadata": {},
   "outputs": [],
   "source": [
    "import numpy as np\n",
    "from channel_analysis import *\n",
    "import h5py"
   ]
  },
  {
   "cell_type": "code",
   "execution_count": 3,
   "metadata": {},
   "outputs": [
    {
     "name": "stdout",
     "output_type": "stream",
     "text": [
      "Chunk time: 0.096642 fft time: 0.115493\n",
      "Chunk time: 0.062662 fft time: 0.084584\n",
      "Chunk time: 0.059911 fft time: 0.081559\n",
      "Chunk time: 0.060040 fft time: 0.088064\n",
      "Chunk time: 0.063304 fft time: 0.080819\n",
      "Chunk time: 0.059110 fft time: 0.082118\n",
      "Chunk time: 0.060818 fft time: 0.081035\n",
      "Chunk time: 0.058875 fft time: 0.084451\n",
      "Chunk time: 0.071077 fft time: 0.095674\n",
      "Chunk time: 0.074888 fft time: 0.096162\n",
      "Chunk time: 0.072534 fft time: 0.093138\n",
      "Chunk time: 0.079395 fft time: 0.101485\n",
      "Chunk time: 0.001198 fft time: 0.001945\n"
     ]
    }
   ],
   "source": [
    "h5log, userCSI, noise, num_users, samps_per_user, timestep=openLog('/home/steven/Course/Network/dataset/traces/ArgosCSI-8x6-2015-11-28-14-39-47_uhf_static/ArgosCSI-8x6-2015-11-28-14-39-47_static.hdf5',1000)"
   ]
  },
  {
   "cell_type": "code",
   "execution_count": 12,
   "metadata": {},
   "outputs": [
    {
     "name": "stdout",
     "output_type": "stream",
     "text": [
      "Description :\n",
      " Indoor environment 8x6 channel traces with static environment using WARPv3+WURC system. \n",
      "agc_interval :\n",
      " 20\n",
      "bs_rx_gain :\n",
      " [20]\n",
      "bs_tx_gain :\n",
      " [25]\n",
      "channel :\n",
      " 14\n",
      "copyright :\n",
      " Rice University\n",
      "frame_length :\n",
      " 100000.0\n",
      "iq_agc_en :\n",
      " True\n",
      "mob_rx_gain :\n",
      " [12]\n",
      "mob_tx_gain :\n",
      " [-1 -1]\n",
      "nodes_description :\n",
      "  BSW | W3-a-00430 | 101 |    10.224.76.101 | ArgosBS_WURC_Master |\n",
      " BSW | W3-a-00234 | 102 |    10.224.76.102 |   ArgosBS_WURC_2 |\n",
      " MOBW | W3-a-00251 |  6 |    10.224.76.207 | ArgosMobile_WURC_7 |\n",
      " MOBW | W3-a-00404 |  7 |    10.224.76.208 | ArgosMobile_WURC_8 |\n",
      " MOBW | W3-a-00135 |  8 |    10.224.76.209 | ArgosMobile_WURC_9 |\n",
      " MOBW | W3-a-00372 | 21 |    10.224.76.221 | ArgosMobile_WURC_24 |\n",
      " MOBW | W3-a-00418 | 25 |    10.224.76.225 | ArgosMobile_WURC_25 |\n",
      " MOBW | W3-a-00431 | 27 |    10.224.76.227 | ArgosMobile_WURC_26 |\n",
      "\n",
      "num_bs_nodes :\n",
      " 2\n",
      "num_mob :\n",
      " 6\n",
      "num_mob_ant :\n",
      " 6\n",
      "pilot_frequency :\n",
      " 5000000.0\n",
      "pilot_length :\n",
      " 64\n",
      "rssi_agc_en :\n",
      " False\n",
      "sample_dump :\n",
      " 1568\n",
      "samples_per_user :\n",
      " 224\n",
      "start_clock :\n",
      " 7.126865\n",
      "start_time :\n",
      " 1448721587.463326\n",
      "total_num_frames :\n",
      " 12017\n",
      "wideband :\n",
      " True\n",
      "<KeysViewHDF5 ['Description', 'agc_interval', 'bs_rx_gain', 'bs_tx_gain', 'channel', 'copyright', 'frame_length', 'iq_agc_en', 'mob_rx_gain', 'mob_tx_gain', 'nodes_description', 'num_bs_nodes', 'num_mob', 'num_mob_ant', 'pilot_frequency', 'pilot_length', 'rssi_agc_en', 'sample_dump', 'samples_per_user', 'start_clock', 'start_time', 'total_num_frames', 'wideband']>\n"
     ]
    }
   ],
   "source": [
    "for k in h5log.attrs.keys():\n",
    "    print(k, \":\\n\",h5log.attrs[k])\n",
    "print(h5log.attrs.keys())"
   ]
  },
  {
   "cell_type": "code",
   "execution_count": 5,
   "metadata": {},
   "outputs": [
    {
     "data": {
      "text/plain": [
       "<KeysViewHDF5 ['FrameCompleteTime', 'Pilot_Samples', 'RSSI', 'mob_tx_gain']>"
      ]
     },
     "execution_count": 5,
     "metadata": {},
     "output_type": "execute_result"
    }
   ],
   "source": [
    "h5log.keys()"
   ]
  },
  {
   "cell_type": "code",
   "execution_count": 6,
   "metadata": {},
   "outputs": [
    {
     "data": {
      "text/plain": [
       "<HDF5 dataset \"Pilot_Samples\": shape (12017, 8, 1568, 2), type \"<i2\">"
      ]
     },
     "execution_count": 6,
     "metadata": {},
     "output_type": "execute_result"
    }
   ],
   "source": [
    "h5log['Pilot_Samples']"
   ]
  },
  {
   "cell_type": "code",
   "execution_count": 18,
   "metadata": {},
   "outputs": [],
   "source": [
    "f=h5py.File(\"./sample_traces/sample.hdf5\",\"w\")\n",
    "f.attrs['samples_per_user']=10\n",
    "f.attrs['num_mob_ant']=h5log.attrs['num_mob_ant']\n",
    "f.attrs['frame_length']= h5log.attrs['frame_length']\n",
    "if 'measured_noise' in h5log.attrs.keys():\n",
    "    f.attrs['measured_noise']= h5log.attrs['measured_noise']\n",
    "f['Pilot_Samples']=h5log['Pilot_Samples'][:10]\n",
    "f.close()"
   ]
  },
  {
   "cell_type": "code",
   "execution_count": 17,
   "metadata": {},
   "outputs": [],
   "source": []
  },
  {
   "cell_type": "code",
   "execution_count": null,
   "metadata": {},
   "outputs": [],
   "source": []
  }
 ],
 "metadata": {
  "kernelspec": {
   "display_name": "Python 3.9.15 ('network': conda)",
   "language": "python",
   "name": "python3"
  },
  "language_info": {
   "codemirror_mode": {
    "name": "ipython",
    "version": 3
   },
   "file_extension": ".py",
   "mimetype": "text/x-python",
   "name": "python",
   "nbconvert_exporter": "python",
   "pygments_lexer": "ipython3",
   "version": "3.9.15"
  },
  "orig_nbformat": 4,
  "vscode": {
   "interpreter": {
    "hash": "dde71a169ec430a42f776587a5dfec37737edc932b82d2b04599c041b7dade90"
   }
  }
 },
 "nbformat": 4,
 "nbformat_minor": 2
}

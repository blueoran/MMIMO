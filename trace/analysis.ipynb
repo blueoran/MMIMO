{
 "cells": [
  {
   "cell_type": "code",
   "execution_count": 1,
   "metadata": {},
   "outputs": [],
   "source": [
    "import numpy as np\n",
    "from channel_analysis import *\n",
    "import h5py\n",
    "import commpy as cpy\n",
    "from Decoder import *"
   ]
  },
  {
   "cell_type": "code",
   "execution_count": 2,
   "metadata": {},
   "outputs": [],
   "source": [
    "def generate_samples(from_file,num_sample):\n",
    "    h5log=h5py.File(from_file,'r')\n",
    "    f=h5py.File(f'/home/steven/Course/Network/MMIMO/trace/sample_traces/sample_{num_sample}.hdf5',\"w\")\n",
    "    f.attrs['samples_per_user']=h5log.attrs['samples_per_user']\n",
    "    f.attrs['num_mob_ant']=h5log.attrs['num_mob_ant']\n",
    "    f.attrs['frame_length']= h5log.attrs['frame_length']\n",
    "    if 'measured_noise' in h5log.attrs.keys():\n",
    "        f.attrs['measured_noise']= h5log.attrs['measured_noise']\n",
    "    f['Pilot_Samples']=h5log['Pilot_Samples'][:num_sample,:,]\n",
    "    f.close()\n",
    "    h5log.close()\n",
    "    \n",
    "generate_samples('/home/steven/Course/Network/dataset/traces/ArgosCSI-8x6-2015-11-28-14-39-47_uhf_static/ArgosCSI-8x6-2015-11-28-14-39-47_static.hdf5',20)"
   ]
  },
  {
   "cell_type": "code",
   "execution_count": 3,
   "metadata": {},
   "outputs": [
    {
     "name": "stdout",
     "output_type": "stream",
     "text": [
      "Chunk time: 0.001557 fft time: 0.001880\n"
     ]
    }
   ],
   "source": [
    "h5log, userCSI, noise, num_users, samps_per_user, timestep=openLog('/home/steven/Course/Network/MMIMO/trace/sample_traces/sample_20.hdf5',1000)"
   ]
  },
  {
   "cell_type": "code",
   "execution_count": 4,
   "metadata": {},
   "outputs": [
    {
     "name": "stdout",
     "output_type": "stream",
     "text": [
      "LTS offset for user 0, frame 10: 107\n"
     ]
    }
   ],
   "source": [
    "def calc_martix(userCSI,user,frame,method='zf'):\n",
    "    user = 0\n",
    "    frame=10\n",
    "    lts_iq = h5log['Pilot_Samples'][frame,0,user*samps_per_user:(user+1)*samps_per_user,0]*1.+h5log['Pilot_Samples'][frame,0,user*samps_per_user:(user+1)*samps_per_user,1]*1j\n",
    "    lts_iq /= 2**15\n",
    "    offset = lts.findLTS(lts_iq)[0][0]+32\n",
    "    print(\"LTS offset for user %d, frame %d: %d\" % (user, frame, offset))\n",
    "    if method=='conj':\n",
    "        bws = np.transpose(np.conj(userCSI[frame,:,:,:]),(1,0,2))\n",
    "        return bws\t\n",
    "    elif method=='zf':\t\n",
    "        bws = np.empty((userCSI.shape[2],userCSI.shape[1],userCSI.shape[3]),dtype='complex64')\t\n",
    "        for sc in range(userCSI.shape[3]):\n",
    "            bws[:,:,sc] = np.linalg.pinv(userCSI[frame,:,:,sc])\n",
    "        return bws\n",
    "    else:\n",
    "        raise ValueError('method must be conj or zf')\n",
    "\n",
    "bws=calc_martix(userCSI,0,10,'zf')"
   ]
  },
  {
   "cell_type": "code",
   "execution_count": 18,
   "metadata": {},
   "outputs": [],
   "source": [
    "def simulate(mod_num,bws,noise,gen_len,apply_noise=False):\n",
    "    if mod_num<=8:\n",
    "        Modulation_type=cpy.PSKModem(mod_num)\n",
    "    else:\n",
    "        Modulation_type=cpy.QAMModem(mod_num)\n",
    "    decoder=ZFDecoder(mod_num,bws.shape[0],bws.shape[1],bws.shape[2])\n",
    "    msg_send = np.random.binomial(n=1,p=0.5,size=(bws.shape[2],bws.shape[0],int(np.log2(mod_num)*(1+gen_len//np.log2(mod_num)))))\n",
    "    msg_send_mod=np.array([[Modulation_type.modulate(msg_send[i,j,:]) for j in range(msg_send.shape[1])] for i in range(msg_send.shape[0])])\n",
    "    # print(np.sum(msg_send!=Modulation_type.demodulate(msg_send_mod.reshape(-1), 'hard').reshape(msg_send.shape)))\n",
    "    noise_random=np.zeros_like(msg_send_mod)\n",
    "    if apply_noise:\n",
    "        noise_mean=noise.mean(axis=0).mean(axis=0)\n",
    "        noise_std=noise.std(axis=0).std(axis=0)\n",
    "        noise_random=np.array([[np.random.normal(noise_mean[i][j].real,noise_std[i][j].real,msg_send_mod.shape[-1])+1j*np.random.normal(noise_mean[i][j].imag,noise_std[i][j].imag,msg_send_mod.shape[-1]) for i in range(noise.shape[-2])] for j in range(noise.shape[-1])])\n",
    "    msg_recv_mod=np.array([bws[:,:,i].T@(msg_send_mod[i,:,:]+noise_random[i,:,:]) for i in range(bws.shape[2])])\n",
    "    msg_recv_decode=np.array([decoder(bws,msg_recv_mod[:,:,i],apply_noise*noise.mean(axis=0).mean(axis=0)) for i in range(msg_recv_mod.shape[-1])])\n",
    "    # print(msg_recv_decode)\n",
    "    msg_recv=Modulation_type.demodulate(msg_recv_decode.reshape(-1), 'hard').reshape(msg_send.shape)\n",
    "    return msg_send,msg_send_mod,msg_recv_mod,msg_recv_decode,msg_recv\n",
    "msg_send,msg_send_mod,msg_recv_mod,msg_recv_decode,msg_recv=simulate(64,bws,noise,1000,False)"
   ]
  },
  {
   "cell_type": "code",
   "execution_count": 19,
   "metadata": {},
   "outputs": [
    {
     "data": {
      "text/plain": [
       "((52, 8, 1002), (52, 8, 167), (52, 6, 167), (167, 52, 8), (52, 8, 1002))"
      ]
     },
     "execution_count": 19,
     "metadata": {},
     "output_type": "execute_result"
    }
   ],
   "source": [
    "msg_send.shape,msg_send_mod.shape,msg_recv_mod.shape,msg_recv_decode.shape,msg_recv.shape"
   ]
  },
  {
   "cell_type": "code",
   "execution_count": 20,
   "metadata": {},
   "outputs": [
    {
     "name": "stdout",
     "output_type": "stream",
     "text": [
      "Bit Errors: 207860/416832=0.4986661292799017\n"
     ]
    }
   ],
   "source": [
    "def cal_BER(msg_send,msg_recv):\n",
    "    bit_num=msg_send.shape[0]*msg_send.shape[1]*msg_send.shape[2]\n",
    "    bit_err=np.sum(msg_send.reshape(-1)!=msg_recv.reshape(-1))\n",
    "    BER=bit_err/bit_num\n",
    "    print(f'Bit Errors: {bit_err}/{bit_num}={BER}')\n",
    "    return BER\n",
    "ber=cal_BER(msg_send,msg_recv)"
   ]
  }
 ],
 "metadata": {
  "kernelspec": {
   "display_name": "Python 3.9.15 ('network': conda)",
   "language": "python",
   "name": "python3"
  },
  "language_info": {
   "codemirror_mode": {
    "name": "ipython",
    "version": 3
   },
   "file_extension": ".py",
   "mimetype": "text/x-python",
   "name": "python",
   "nbconvert_exporter": "python",
   "pygments_lexer": "ipython3",
   "version": "3.9.15"
  },
  "orig_nbformat": 4,
  "vscode": {
   "interpreter": {
    "hash": "dde71a169ec430a42f776587a5dfec37737edc932b82d2b04599c041b7dade90"
   }
  }
 },
 "nbformat": 4,
 "nbformat_minor": 2
}
